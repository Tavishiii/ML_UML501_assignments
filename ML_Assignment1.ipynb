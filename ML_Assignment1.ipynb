{
  "nbformat": 4,
  "nbformat_minor": 0,
  "metadata": {
    "colab": {
      "provenance": []
    },
    "kernelspec": {
      "name": "python3",
      "display_name": "Python 3"
    },
    "language_info": {
      "name": "python"
    }
  },
  "cells": [
    {
      "cell_type": "markdown",
      "source": [
        "#Assignment 1\n",
        "##Q1: Questions on Basic NumPy Array\n",
        "(a) Reverse the NumPy array: arr = np.array([1, 2, 3, 6, 4, 5])\n"
      ],
      "metadata": {
        "id": "QC86UASwzilV"
      }
    },
    {
      "cell_type": "code",
      "source": [
        "import numpy as np\n",
        "arr= np.array([1,2,3,4,5])\n",
        "print(arr)\n",
        "\n",
        "arr_rev= arr[::-1]\n",
        "print(arr_rev)\n"
      ],
      "metadata": {
        "colab": {
          "base_uri": "https://localhost:8080/"
        },
        "id": "39bzk4gvnHxs",
        "outputId": "0128ec21-5f3b-431d-dc0a-84c1f1a07ef6"
      },
      "execution_count": null,
      "outputs": [
        {
          "output_type": "stream",
          "name": "stdout",
          "text": [
            "[1 2 3 4 5]\n",
            "[5 4 3 2 1]\n"
          ]
        }
      ]
    },
    {
      "cell_type": "markdown",
      "source": [
        "(b) Flatten the NumPy arr: array1 = np.array([[1, 2, 3], [2, 4, 5], [1, 2, 3]]) using any two\n",
        "NumPy in-built methods"
      ],
      "metadata": {
        "id": "opT0Hy4V2DaR"
      }
    },
    {
      "cell_type": "code",
      "source": [
        "\n",
        "array1 = np.array([[1, 2, 3], [2, 4, 5], [1, 2, 3]])\n",
        "\n",
        "# Using flatten()\n",
        "flattened_array1 = array1.flatten()\n",
        "print(\"Flattened using flatten():\", flattened_array1)\n",
        "\n",
        "# Using ravel()\n",
        "flattened_array2 = array1.ravel()\n",
        "print(\"Flattened using ravel():\", flattened_array2)"
      ],
      "metadata": {
        "colab": {
          "base_uri": "https://localhost:8080/"
        },
        "id": "ceCk9XGhnH0l",
        "outputId": "8abf80f3-8178-4999-80e3-0789e20a1d7a"
      },
      "execution_count": null,
      "outputs": [
        {
          "output_type": "stream",
          "name": "stdout",
          "text": [
            "Flattened using flatten(): [1 2 3 2 4 5 1 2 3]\n",
            "Flattened using ravel(): [1 2 3 2 4 5 1 2 3]\n"
          ]
        }
      ]
    },
    {
      "cell_type": "markdown",
      "source": [
        "(c) Compare the following numpy arrays:\n",
        "arr1 = np.array([[1, 2], [3, 4]])\n",
        "arr2 = np.array([[1, 2], [3, 4]])"
      ],
      "metadata": {
        "id": "H9rVUWVS2q6T"
      }
    },
    {
      "cell_type": "code",
      "source": [
        "arr1 = np.array([[1, 2], [3, 4]])\n",
        "arr2 = np.array([[1, 2], [3, 4]])\n",
        "\n",
        "# Element-wise comparison\n",
        "element_wise_comparison = arr1 == arr2\n",
        "print(\"Element-wise comparison:\\n\", element_wise_comparison)\n",
        "\n",
        "# Array equality\n",
        "are_equal = np.array_equal(arr1, arr2)\n",
        "print(\"\\nAre the arrays equal?\", are_equal)"
      ],
      "metadata": {
        "colab": {
          "base_uri": "https://localhost:8080/"
        },
        "id": "ky_lWEgD2rIY",
        "outputId": "cf192923-ae6c-49b2-e16d-37ed5f1562e3"
      },
      "execution_count": null,
      "outputs": [
        {
          "output_type": "stream",
          "name": "stdout",
          "text": [
            "Element-wise comparison:\n",
            " [[ True  True]\n",
            " [ True  True]]\n",
            "\n",
            "Are the arrays equal? True\n"
          ]
        }
      ]
    },
    {
      "cell_type": "markdown",
      "source": [
        "(d) Find the most frequent value and their indice(s) in the following arrays:\n",
        "\n",
        "i. x = np.array([1,2,3,4,5,1,2,1,1,1])\n",
        "\n",
        "ii. y = np.array([1, 1, 1, 2, 3, 4, 2, 4, 3, 3, ])"
      ],
      "metadata": {
        "id": "f5jBfhwW3RNI"
      }
    },
    {
      "cell_type": "code",
      "source": [
        "x = np.array([1,2,3,4,5,1,2,1,1,1])\n",
        "most_frequent_value = np.bincount(x).argmax()\n",
        "indices = np.where(x == most_frequent_value)[0]\n",
        "\n",
        "print(\"Most frequent value in x:\", most_frequent_value)\n",
        "print(\"Indices of the most frequent value in x:\", indices)\n",
        "\n",
        "y = np.array([1, 1, 1, 2, 3, 4, 2, 4, 3, 3, ])\n",
        "most_freq=np.bincount(y).argmax()\n",
        "indices_y= np.where(y==most_freq)[0]\n",
        "\n",
        "print(\"Most frequent value in y:\", most_freq)\n",
        "print(\"Indices of the most frequent value in y:\", indices_y)\n"
      ],
      "metadata": {
        "colab": {
          "base_uri": "https://localhost:8080/"
        },
        "id": "jsUgFc_13RVV",
        "outputId": "fdf57a5d-e660-407d-84c6-f1666c9210f9"
      },
      "execution_count": null,
      "outputs": [
        {
          "output_type": "stream",
          "name": "stdout",
          "text": [
            "Most frequent value in x: 1\n",
            "Indices of the most frequent value in x: [0 5 7 8 9]\n",
            "Most frequent value in y: 1\n",
            "Indices of the most frequent value in y: [0 1 2]\n"
          ]
        }
      ]
    },
    {
      "cell_type": "markdown",
      "source": [
        "(e) For the array gfg = np.matrix('[4, 1, 9; 12, 3, 1; 4, 5, 6]'), find\n",
        "\n",
        "i. Sum of all elements\n",
        "\n",
        "ii. Sum of all elements row-wise\n",
        "\n",
        "iii. Sum of all elements column-wise"
      ],
      "metadata": {
        "id": "TWIRuLqP3ReC"
      }
    },
    {
      "cell_type": "code",
      "source": [
        "gfg = np.matrix('[4, 1, 9; 12, 3, 1; 4, 5, 6]')\n",
        "print(gfg)\n",
        "sum_all_elements= np.sum(gfg)\n",
        "print(\"Sum of all elements:\", sum_all_elements)\n",
        "\n",
        "sum_row_wise= np.sum(gfg, axis=1)\n",
        "print(\"Sum of all elements row-wise:\", sum_row_wise)\n",
        "\n",
        "sum_column_wise= np.sum(gfg, axis=0)\n",
        "print(\"Sum of all elements column-wise:\", sum_column_wise)"
      ],
      "metadata": {
        "colab": {
          "base_uri": "https://localhost:8080/"
        },
        "id": "BO9tPLz43Rmk",
        "outputId": "695d6ebe-f48f-4cf4-913e-ee5514b7ddee"
      },
      "execution_count": null,
      "outputs": [
        {
          "output_type": "stream",
          "name": "stdout",
          "text": [
            "[[ 4  1  9]\n",
            " [12  3  1]\n",
            " [ 4  5  6]]\n",
            "Sum of all elements: 45\n",
            "Sum of all elements row-wise: [[14]\n",
            " [16]\n",
            " [15]]\n",
            "Sum of all elements column-wise: [[20  9 16]]\n"
          ]
        }
      ]
    },
    {
      "cell_type": "markdown",
      "source": [
        "(f) For the matrix: n_array = np.array([[55, 25, 15],[30, 44, 2],[11, 45, 77]]), find\n",
        "\n",
        "i. Sum of diagonal elements\n",
        "\n",
        "ii. Eigen values of matrix\n",
        "\n",
        "iii. Eigen vectors of matrix\n",
        "\n",
        "iv. Inverse of matrix\n",
        "\n",
        "v. Determinant of matrix"
      ],
      "metadata": {
        "id": "NJhLcm2D3RvP"
      }
    },
    {
      "cell_type": "code",
      "source": [
        "import numpy as np\n",
        "n_array=np.array([[55, 25, 15],[30, 44, 2],[11, 45, 77]])\n",
        "print(\"array:\",n_array)\n",
        "\n",
        "sum_diag=np.diagonal(n_array).sum()\n",
        "print(\"Sum of diagonal elements:\\n\", sum_diag)\n",
        "\n",
        "eigen_values, eigen_vectors= np.linalg.eig(n_array)\n",
        "print(\"Eigen values of matrix:\\n\", eigen_values)\n",
        "print(\"Eigen vectors of matrix:\\n\", eigen_vectors)\n",
        "\n",
        "inverse_matrix= np.linalg.inv(n_array)\n",
        "print(\"Inverse of matrix:\\n\", inverse_matrix)\n",
        "\n",
        "determinant_matrix= np.linalg.det(n_array)\n",
        "print(\"Determinant of matrix:\", determinant_matrix)\n"
      ],
      "metadata": {
        "colab": {
          "base_uri": "https://localhost:8080/"
        },
        "id": "MJiBB3hB3R3u",
        "outputId": "fc78047a-6421-4b7e-fb5f-1d4b1914189d"
      },
      "execution_count": null,
      "outputs": [
        {
          "output_type": "stream",
          "name": "stdout",
          "text": [
            "array: [[55 25 15]\n",
            " [30 44  2]\n",
            " [11 45 77]]\n",
            "Sum of diagonal elements:\n",
            " 176\n",
            "Eigen values of matrix:\n",
            " [98.16835147 28.097044   49.73460452]\n",
            "Eigen vectors of matrix:\n",
            " [[ 0.4574917   0.34637121 -0.15017693]\n",
            " [ 0.28447814 -0.72784061 -0.4852124 ]\n",
            " [ 0.84248058  0.59184038  0.8614034 ]]\n",
            "Inverse of matrix:\n",
            " [[ 0.02404141 -0.00911212 -0.00444671]\n",
            " [-0.01667882  0.02966905  0.0024785 ]\n",
            " [ 0.00631287 -0.01603732  0.01217379]]\n",
            "Determinant of matrix: 137180.0000000001\n"
          ]
        }
      ]
    },
    {
      "cell_type": "markdown",
      "source": [
        "(g) Multiply the following matrices and also find covariance between matrices using NumPy:\n",
        "\n",
        "i. p = [[1, 2], [2, 3]]\n",
        "\n",
        "q = [[4, 5], [6, 7]]\n",
        "\n",
        "ii. p = [[1, 2], [2, 3], [4, 5]]\n",
        "\n",
        "q = [[4, 5, 1], [6, 7, 2]]"
      ],
      "metadata": {
        "id": "ZzkCW9G33SBB"
      }
    },
    {
      "cell_type": "code",
      "source": [
        "p= np.array([[1,2],[2,3]])\n",
        "q=np.array([[4,5],[6,7]])\n",
        "answer= np.dot(p,q)\n",
        "\n",
        "print(\"The result of multiplying the 2 matrices is:\\n\", answer)\n",
        "\n",
        "covariance= np.cov(p,q)\n",
        "print(\"The covariance between the 2 matrices is:\\n\", covariance)"
      ],
      "metadata": {
        "colab": {
          "base_uri": "https://localhost:8080/"
        },
        "id": "_14Ixszmpo2x",
        "outputId": "910757f8-3984-4274-e801-487fb30c9324"
      },
      "execution_count": null,
      "outputs": [
        {
          "output_type": "stream",
          "name": "stdout",
          "text": [
            "The result of multiplying the 2 matrices is:\n",
            " [[16 19]\n",
            " [26 31]]\n",
            "The covariance between the 2 matrices is:\n",
            " [[0.5 0.5 0.5 0.5]\n",
            " [0.5 0.5 0.5 0.5]\n",
            " [0.5 0.5 0.5 0.5]\n",
            " [0.5 0.5 0.5 0.5]]\n"
          ]
        }
      ]
    },
    {
      "cell_type": "code",
      "source": [
        "p1= np.array([[1,2],[2,3],[4,5]])\n",
        "q1=np.array([[4,5,1],[6,7,2]])\n",
        "answer1= np.dot(p1,q1)\n",
        "print(\"The result of multiplying the 2 matrices is:\\n\", answer1)\n",
        "\n",
        "# Transposing q1 to have the same number of columns as p1\n",
        "covariance1= np.cov(p1,q1.T)\n",
        "\n",
        "print(\"The covariance between the 2 matrices is:\\n\", covariance1)"
      ],
      "metadata": {
        "colab": {
          "base_uri": "https://localhost:8080/"
        },
        "id": "9meiuGBnTowv",
        "outputId": "fe61ea31-0884-4b51-85be-e6a3ed5cf4f9"
      },
      "execution_count": null,
      "outputs": [
        {
          "output_type": "stream",
          "name": "stdout",
          "text": [
            "The result of multiplying the 2 matrices is:\n",
            " [[16 19  5]\n",
            " [26 31  8]\n",
            " [46 55 14]]\n",
            "The covariance between the 2 matrices is:\n",
            " [[0.5 0.5 0.5 1.  1.  0.5]\n",
            " [0.5 0.5 0.5 1.  1.  0.5]\n",
            " [0.5 0.5 0.5 1.  1.  0.5]\n",
            " [1.  1.  1.  2.  2.  1. ]\n",
            " [1.  1.  1.  2.  2.  1. ]\n",
            " [0.5 0.5 0.5 1.  1.  0.5]]\n"
          ]
        }
      ]
    },
    {
      "cell_type": "markdown",
      "source": [
        "(h) For the matrices: x = np.array([[2, 3, 4], [3, 2, 9]]);\n",
        " y = np.array([[1, 5, 0], [5, 10, 3]]),\n",
        "\n",
        "find inner, outer and cartesian product?"
      ],
      "metadata": {
        "id": "QdQ0L_hpppII"
      }
    },
    {
      "cell_type": "code",
      "source": [
        "import numpy as np\n",
        "\n",
        "x = np.array([[2, 3, 4], [3, 2, 9]])\n",
        "y = np.array([[1, 5, 0], [5, 10, 3]])\n",
        "\n",
        "inner_product= np.inner(x,y)\n",
        "print(\"Inner product:\\n\", inner_product)\n",
        "\n",
        "outer_product= np.outer(x,y)\n",
        "print(\"Outer product:\\n\", outer_product)"
      ],
      "metadata": {
        "id": "sqKpJRzQppQ9",
        "colab": {
          "base_uri": "https://localhost:8080/"
        },
        "outputId": "c8ef98fb-e95f-4ed0-8138-b803748ed21a"
      },
      "execution_count": 2,
      "outputs": [
        {
          "output_type": "stream",
          "name": "stdout",
          "text": [
            "Inner product:\n",
            " [[17 52]\n",
            " [13 62]]\n",
            "Outer product:\n",
            " [[ 2 10  0 10 20  6]\n",
            " [ 3 15  0 15 30  9]\n",
            " [ 4 20  0 20 40 12]\n",
            " [ 3 15  0 15 30  9]\n",
            " [ 2 10  0 10 20  6]\n",
            " [ 9 45  0 45 90 27]]\n"
          ]
        }
      ]
    },
    {
      "cell_type": "markdown",
      "source": [
        "##Q2: Based on NumPy Mathematics and Statistics\n",
        "(a) For the array: array = np.array([[1, -2, 3],[-4, 5, -6]])\n",
        "\n",
        "i. Find element-wise absolute value\n",
        "\n",
        "ii. Find the 25th, 50th, and 75th percentile of flattened array, for each column, for each\n",
        "row.\n",
        "\n",
        "iii. Mean, Median and Standard Deviation of flattened array, of each column, and\n",
        "each row\n",
        "\n"
      ],
      "metadata": {
        "id": "nt3MLe4XppaH"
      }
    },
    {
      "cell_type": "code",
      "source": [
        "array = np.array([[1, -2, 3],[-4, 5, -6]])\n",
        "print(array)\n",
        "\n",
        "# (i) Element-wise absolute value\n",
        "abs_value= np.abs(array)\n",
        "print(\"Element-wise absolute value:\\n\", abs_value)\n",
        "\n",
        "#(ii) 25th, 50th, and 75th percentile of flattened array\n",
        "\n",
        "print(\"25th percentile of flattened array:\", np.percentile(array, 25))\n",
        "print(\"50th percentile of flattened array:\", np.percentile(array, 50))\n",
        "print(\"75th percentile of flattened array:\", np.percentile(array, 75))\n",
        "\n",
        "# For each column\n",
        "print(\"\\n25th percentile for each column:\", np.percentile(array, 25, axis=0))\n",
        "print(\"50th percentile for each column:\", np.percentile(array, 50, axis=0))\n",
        "print(\"75th percentile for each column:\", np.percentile(array, 75, axis=0))\n",
        "\n",
        "# For each row\n",
        "print(\"\\n25th percentile for each row:\", np.percentile(array, 25, axis=1))\n",
        "print(\"50th percentile for each row:\", np.percentile(array, 50, axis=1))\n",
        "print(\"75th percentile for each row:\", np.percentile(array, 75, axis=1))\n",
        "\n",
        "#(iii) Mean, Median and Standard Deviation of flattened array, of each column, and each row\n",
        "print(\"\\nMean of flattened array:\", np.mean(array))\n",
        "print(\"Median of flattened array:\", np.median(array))\n",
        "print(\"Standard Deviation of flattened array:\", np.std(array))"
      ],
      "metadata": {
        "id": "SkT70pm5pph4",
        "colab": {
          "base_uri": "https://localhost:8080/"
        },
        "outputId": "8590f6d9-84dc-44fd-eae3-510a8e3f390a"
      },
      "execution_count": 6,
      "outputs": [
        {
          "output_type": "stream",
          "name": "stdout",
          "text": [
            "[[ 1 -2  3]\n",
            " [-4  5 -6]]\n",
            "Element-wise absolute value:\n",
            " [[1 2 3]\n",
            " [4 5 6]]\n",
            "25th percentile of flattened array: -3.5\n",
            "50th percentile of flattened array: -0.5\n",
            "75th percentile of flattened array: 2.5\n",
            "\n",
            "25th percentile for each column: [-2.75 -0.25 -3.75]\n",
            "50th percentile for each column: [-1.5  1.5 -1.5]\n",
            "75th percentile for each column: [-0.25  3.25  0.75]\n",
            "\n",
            "25th percentile for each row: [-0.5 -5. ]\n",
            "50th percentile for each row: [ 1. -4.]\n",
            "75th percentile for each row: [2.  0.5]\n",
            "\n",
            "Mean of flattened array: -0.5\n",
            "Median of flattened array: -0.5\n",
            "Standard Deviation of flattened array: 3.8622100754188224\n"
          ]
        }
      ]
    },
    {
      "cell_type": "markdown",
      "source": [
        "(b) For the array: a = np.array([-1.8, -1.6, -0.5, 0.5,1.6, 1.8, 3.0]).\n",
        "\n",
        "Find floor, ceiling\n",
        "and truncated value, rounded values"
      ],
      "metadata": {
        "id": "-r86IXQ2p6Zc"
      }
    },
    {
      "cell_type": "code",
      "source": [
        "a = np.array([-1.8, -1.6, -0.5, 0.5,1.6, 1.8, 3.0])\n",
        "print(a)\n",
        "\n",
        "# floor, ceiling and truncated value, rounded values\n",
        "print(\"\\nFloor value :\", np.floor(a))\n",
        "print(\"Ceiling value :\", np.ceil(a))\n",
        "print(\"Truncated value :\", np.trunc(a))\n",
        "print(\"Rounded values :\", np.round(a))\n"
      ],
      "metadata": {
        "id": "I9lU3cE1p6gl",
        "colab": {
          "base_uri": "https://localhost:8080/"
        },
        "outputId": "654ca294-57e0-4c9d-d4b1-89563e73da9b"
      },
      "execution_count": 8,
      "outputs": [
        {
          "output_type": "stream",
          "name": "stdout",
          "text": [
            "[-1.8 -1.6 -0.5  0.5  1.6  1.8  3. ]\n",
            "\n",
            "Floor value : [-2. -2. -1.  0.  1.  1.  3.]\n",
            "Ceiling value : [-1. -1. -0.  1.  2.  2.  3.]\n",
            "Truncated value : [-1. -1. -0.  0.  1.  1.  3.]\n",
            "Rounded values : [-2. -2. -0.  0.  2.  2.  3.]\n"
          ]
        }
      ]
    },
    {
      "cell_type": "markdown",
      "source": [
        "##Q3: Based on Searching and Sorting\n",
        "(a) For the array: array = np.array([10, 52, 62, 16, 16, 54, 453]), find\n",
        "\n",
        "i. Sorted array\n",
        "\n",
        "ii. Indices of sorted array\n",
        "\n",
        "iii. 4 smallest elements\n",
        "\n",
        "iv. 5 largest elements\n"
      ],
      "metadata": {
        "id": "amiVyxe3p6nL"
      }
    },
    {
      "cell_type": "code",
      "source": [
        "array = np.array([10, 52, 62, 16, 16, 54, 453])\n",
        "print(array)\n",
        "\n",
        "# i. Sorted array\n",
        "sorted_array= np.sort(array)\n",
        "print(\"Sorted array:\\n\", sorted_array)\n",
        "\n",
        "# ii. Indices of sorted array\n",
        "indices_sorted_array= np.argsort(array)\n",
        "print(\"Indices of sorted array:\\n\", indices_sorted_array)\n",
        "\n",
        "# iii. 4 smallest elements\n",
        "smallest_elements= np.sort(array)[:4]\n",
        "print(\"4 smallest elements:\\n\", smallest_elements)\n",
        "\n",
        "# iv. 5 largest elements\n",
        "largest_elements= np.sort(array)[-5:]\n",
        "print(\"5 largest elements:\\n\", largest_elements)"
      ],
      "metadata": {
        "id": "3P49e_sjp6wZ",
        "colab": {
          "base_uri": "https://localhost:8080/"
        },
        "outputId": "bca99179-8e23-4eb9-ff0d-c785fab82893"
      },
      "execution_count": 11,
      "outputs": [
        {
          "output_type": "stream",
          "name": "stdout",
          "text": [
            "[ 10  52  62  16  16  54 453]\n",
            "Sorted array:\n",
            " [ 10  16  16  52  54  62 453]\n",
            "Indices of sorted array:\n",
            " [0 3 4 1 5 2 6]\n",
            "4 smallest elements:\n",
            " [10 16 16 52]\n",
            "5 largest elements:\n",
            " [ 16  52  54  62 453]\n"
          ]
        }
      ]
    },
    {
      "cell_type": "markdown",
      "source": [
        "(b) For the array: array = np.array([1.0, 1.2, 2.2, 2.0, 3.0, 2.0]), find\n",
        "\n",
        "i. Integer elements only\n",
        "\n",
        "ii. Float elements only\n"
      ],
      "metadata": {
        "id": "3YH58kuUqNam"
      }
    },
    {
      "cell_type": "code",
      "source": [
        "array = np.array([1.0, 1.2, 2.2, 2.0, 3.0, 2.0])\n",
        "\n",
        "# i. Integer elements only\n",
        "integer_elements= array[array == array.astype(int)]\n",
        "print(\"Integer elements only:\\n\", integer_elements)\n",
        "\n",
        "# ii. Float elements only\n",
        "float_elements= array[array != array.astype(int)]\n",
        "print(\"Float elements only:\\n\", float_elements)\n",
        "\n",
        "\n"
      ],
      "metadata": {
        "id": "ZGknXw8WqNh1",
        "colab": {
          "base_uri": "https://localhost:8080/"
        },
        "outputId": "3f11da1f-3bf9-465d-819f-c4c266891a08"
      },
      "execution_count": 12,
      "outputs": [
        {
          "output_type": "stream",
          "name": "stdout",
          "text": [
            "Integer elements only:\n",
            " [1. 2. 3. 2.]\n",
            "Float elements only:\n",
            " [1.2 2.2]\n"
          ]
        }
      ]
    },
    {
      "cell_type": "markdown",
      "source": [
        "##Q4:\n",
        "(a) Write a function named img_to_array(path) that reads an image from a specified path and\n",
        "save it as text file on local machine? (Note: use separate cases for RGB and Grey Scale\n",
        "images)\n"
      ],
      "metadata": {
        "id": "_yveD4g2qNpV"
      }
    },
    {
      "cell_type": "code",
      "source": [
        "import cv2\n",
        "import numpy as np\n",
        "\n",
        "def img_to_array(path):\n",
        "\n",
        "  try:\n",
        "\n",
        "    img = cv2.imread(path, cv2.IMREAD_UNCHANGED)\n",
        "\n",
        "    if img is None:\n",
        "      print(f\"Error: Could not read image at {path}\")\n",
        "      return\n",
        "\n",
        "    # To check if the image is grayscale or RGB\n",
        "    if len(img.shape) == 2 or img.shape[2] == 1:\n",
        "      # Grayscale image\n",
        "      filename = \"grayscale_image.txt\"\n",
        "      np.savetxt(filename, img, fmt=\"%d\")\n",
        "      print(f\"Grayscale image saved to {filename}\")\n",
        "    else:\n",
        "      # RGB image\n",
        "      filename = \"rgb_image.txt\"\n",
        "      # Reshape to 2D array for saving\n",
        "      reshaped_img = img.reshape(img.shape[0], -1)\n",
        "      np.savetxt(filename, reshaped_img, fmt=\"%d\")\n",
        "      print(f\"RGB image saved to {filename}\")\n",
        "\n",
        "  except Exception as e:\n",
        "    print(f\"An error occurred: {e}\")\n",
        "\n",
        "dummy_gray = np.zeros((10, 10))\n",
        "cv2.imwrite(\"grayscale_image.png\", dummy_gray)\n",
        "dummy_rgb = np.zeros((10, 10, 3))\n",
        "cv2.imwrite(\"rgb_image.png\", dummy_rgb)\n",
        "\n",
        "img_to_array(\"grayscale_image.png\")\n",
        "img_to_array(\"rgb_image.png\")\n"
      ],
      "metadata": {
        "id": "uE5hTMkxqNxT",
        "colab": {
          "base_uri": "https://localhost:8080/"
        },
        "outputId": "58597dfd-caa9-4785-97ef-f4fa5163b110"
      },
      "execution_count": 22,
      "outputs": [
        {
          "output_type": "stream",
          "name": "stdout",
          "text": [
            "Grayscale image saved to grayscale_image.txt\n",
            "RGB image saved to rgb_image.txt\n"
          ]
        }
      ]
    },
    {
      "cell_type": "markdown",
      "source": [
        "(b) Load the saved file into jupyter notebook?"
      ],
      "metadata": {
        "id": "bwBTi5YlqWLj"
      }
    },
    {
      "cell_type": "code",
      "source": [
        "\n",
        "#(b) Load the saved file into notebook?\n",
        "# Load the grayscale image\n",
        "loaded_grayscale_img = np.loadtxt(\"grayscale_image.txt\")\n",
        "print(\"Loaded grayscale image:\\n\", loaded_grayscale_img)\n",
        "\n",
        "# Load the RGB image\n",
        "loaded_rgb_img = np.loadtxt(\"rgb_image.txt\")\n",
        "print(\"\\nLoaded RGB image:\\n\", loaded_rgb_img)\n",
        "\n"
      ],
      "metadata": {
        "id": "bxEbaWbpqWTr",
        "colab": {
          "base_uri": "https://localhost:8080/"
        },
        "outputId": "d59078b9-55c2-495a-bcce-cc829866fea9"
      },
      "execution_count": 23,
      "outputs": [
        {
          "output_type": "stream",
          "name": "stdout",
          "text": [
            "Loaded grayscale image:\n",
            " [[0. 0. 0. 0. 0. 0. 0. 0. 0. 0.]\n",
            " [0. 0. 0. 0. 0. 0. 0. 0. 0. 0.]\n",
            " [0. 0. 0. 0. 0. 0. 0. 0. 0. 0.]\n",
            " [0. 0. 0. 0. 0. 0. 0. 0. 0. 0.]\n",
            " [0. 0. 0. 0. 0. 0. 0. 0. 0. 0.]\n",
            " [0. 0. 0. 0. 0. 0. 0. 0. 0. 0.]\n",
            " [0. 0. 0. 0. 0. 0. 0. 0. 0. 0.]\n",
            " [0. 0. 0. 0. 0. 0. 0. 0. 0. 0.]\n",
            " [0. 0. 0. 0. 0. 0. 0. 0. 0. 0.]\n",
            " [0. 0. 0. 0. 0. 0. 0. 0. 0. 0.]]\n",
            "\n",
            "Loaded RGB image:\n",
            " [[0. 0. 0. 0. 0. 0. 0. 0. 0. 0. 0. 0. 0. 0. 0. 0. 0. 0. 0. 0. 0. 0. 0. 0.\n",
            "  0. 0. 0. 0. 0. 0.]\n",
            " [0. 0. 0. 0. 0. 0. 0. 0. 0. 0. 0. 0. 0. 0. 0. 0. 0. 0. 0. 0. 0. 0. 0. 0.\n",
            "  0. 0. 0. 0. 0. 0.]\n",
            " [0. 0. 0. 0. 0. 0. 0. 0. 0. 0. 0. 0. 0. 0. 0. 0. 0. 0. 0. 0. 0. 0. 0. 0.\n",
            "  0. 0. 0. 0. 0. 0.]\n",
            " [0. 0. 0. 0. 0. 0. 0. 0. 0. 0. 0. 0. 0. 0. 0. 0. 0. 0. 0. 0. 0. 0. 0. 0.\n",
            "  0. 0. 0. 0. 0. 0.]\n",
            " [0. 0. 0. 0. 0. 0. 0. 0. 0. 0. 0. 0. 0. 0. 0. 0. 0. 0. 0. 0. 0. 0. 0. 0.\n",
            "  0. 0. 0. 0. 0. 0.]\n",
            " [0. 0. 0. 0. 0. 0. 0. 0. 0. 0. 0. 0. 0. 0. 0. 0. 0. 0. 0. 0. 0. 0. 0. 0.\n",
            "  0. 0. 0. 0. 0. 0.]\n",
            " [0. 0. 0. 0. 0. 0. 0. 0. 0. 0. 0. 0. 0. 0. 0. 0. 0. 0. 0. 0. 0. 0. 0. 0.\n",
            "  0. 0. 0. 0. 0. 0.]\n",
            " [0. 0. 0. 0. 0. 0. 0. 0. 0. 0. 0. 0. 0. 0. 0. 0. 0. 0. 0. 0. 0. 0. 0. 0.\n",
            "  0. 0. 0. 0. 0. 0.]\n",
            " [0. 0. 0. 0. 0. 0. 0. 0. 0. 0. 0. 0. 0. 0. 0. 0. 0. 0. 0. 0. 0. 0. 0. 0.\n",
            "  0. 0. 0. 0. 0. 0.]\n",
            " [0. 0. 0. 0. 0. 0. 0. 0. 0. 0. 0. 0. 0. 0. 0. 0. 0. 0. 0. 0. 0. 0. 0. 0.\n",
            "  0. 0. 0. 0. 0. 0.]]\n"
          ]
        }
      ]
    }
  ]
}