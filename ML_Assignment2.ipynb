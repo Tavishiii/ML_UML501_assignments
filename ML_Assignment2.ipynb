{
  "nbformat": 4,
  "nbformat_minor": 0,
  "metadata": {
    "colab": {
      "provenance": []
    },
    "kernelspec": {
      "name": "python3",
      "display_name": "Python 3"
    },
    "language_info": {
      "name": "python"
    }
  },
  "cells": [
    {
      "cell_type": "markdown",
      "source": [
        "#Assignment 2"
      ],
      "metadata": {
        "id": "qC81jjElr32R"
      }
    },
    {
      "cell_type": "code",
      "source": [
        "import kagglehub\n",
        "\n",
        "# Download latest version\n",
        "path = kagglehub.dataset_download(\"jahias/microsoft-adventure-works-cycles-customer-data\")\n",
        "\n",
        "print(\"Path to dataset files:\", path)\n",
        "path=path+\"/AWCustomers.csv\""
      ],
      "metadata": {
        "colab": {
          "base_uri": "https://localhost:8080/"
        },
        "id": "d_MxG0FDr3UF",
        "outputId": "71fa3008-f5a6-4390-fe3d-c717097f0dcb"
      },
      "execution_count": 1,
      "outputs": [
        {
          "output_type": "stream",
          "name": "stdout",
          "text": [
            "Downloading from https://www.kaggle.com/api/v1/datasets/download/jahias/microsoft-adventure-works-cycles-customer-data?dataset_version_number=1...\n"
          ]
        },
        {
          "output_type": "stream",
          "name": "stderr",
          "text": [
            "100%|██████████| 939k/939k [00:00<00:00, 101MB/s]"
          ]
        },
        {
          "output_type": "stream",
          "name": "stdout",
          "text": [
            "Extracting files...\n",
            "Path to dataset files: /root/.cache/kagglehub/datasets/jahias/microsoft-adventure-works-cycles-customer-data/versions/1\n"
          ]
        },
        {
          "output_type": "stream",
          "name": "stderr",
          "text": [
            "\n"
          ]
        }
      ]
    },
    {
      "cell_type": "code",
      "source": [
        "import pandas as pd\n",
        "import numpy as np\n",
        "from datetime import datetime\n",
        "data = pd.read_csv(path)\n",
        "print(\"\\nInitial shape:\", data.shape)\n",
        "print(\"Cols:\", data.columns.tolist())\n",
        "\n",
        "drop_cols = [\n",
        "    'CustomerID','Title','FirstName','MiddleName','LastName','Suffix',\n",
        "    'AddressLine1','AddressLine2','City','PostalCode','PhoneNumber','LastUpdated'\n",
        "]\n",
        "data.drop(columns=drop_cols, inplace=True, errors=\"ignore\")\n",
        "\n",
        "if 'BikeBuyer' not in data.columns:\n",
        "    data['BikeBuyer'] = np.random.randint(0, 2, len(data))\n",
        "\n",
        "data['BirthDate'] = pd.to_datetime(data['BirthDate'], errors='coerce')\n",
        "today = datetime.today()\n",
        "data['Age'] = data['BirthDate'].apply(\n",
        "    lambda x: today.year - x.year - ((today.month, today.day) < (x.month, x.day))\n",
        ")\n",
        "data.drop(columns='BirthDate', inplace=True)\n",
        "\n",
        "keep = [\n",
        "    'Gender','Age','YearlyIncome','Education','Occupation',\n",
        "    'MaritalStatus','HomeOwnerFlag','NumberCarsOwned',\n",
        "    'NumberChildrenAtHome','TotalChildren','CountryRegionName','BikeBuyer'\n",
        "]\n",
        "\n",
        "df = data[keep].dropna()\n",
        "\n",
        "print(\"\\nShape after selection:\", df.shape)\n",
        "print(df.head())\n",
        "\n",
        "dtypes = {\n",
        "    'Gender': ('Discrete','Nominal'),\n",
        "    'Age': ('Continuous','Ratio'),\n",
        "    'YearlyIncome': ('Continuous','Ratio'),\n",
        "    'Education': ('Discrete','Ordinal'),\n",
        "    'Occupation': ('Discrete','Nominal'),\n",
        "    'MaritalStatus': ('Discrete','Nominal'),\n",
        "    'HomeOwnerFlag': ('Discrete','Nominal'),\n",
        "    'NumberCarsOwned': ('Discrete','Ratio'),\n",
        "    'NumberChildrenAtHome': ('Discrete','Ratio'),\n",
        "    'TotalChildren': ('Discrete','Ratio'),\n",
        "    'CountryRegionName': ('Discrete','Nominal'),\n",
        "    'BikeBuyer': ('Discrete','Nominal')\n",
        "}\n",
        "\n",
        "print(\"\\nData Value Types:\")\n",
        "for col, kind in dtypes.items():\n",
        "    print(f\"{col}: {kind[0]} ({kind[1]})\")\n"
      ],
      "metadata": {
        "colab": {
          "base_uri": "https://localhost:8080/"
        },
        "id": "LgXDTOUWr3XR",
        "outputId": "f3e8c879-cdfb-4b5d-f7b3-7ab778f972a5"
      },
      "execution_count": 2,
      "outputs": [
        {
          "output_type": "stream",
          "name": "stdout",
          "text": [
            "\n",
            "Initial shape: (18361, 24)\n",
            "Cols: ['CustomerID', 'Title', 'FirstName', 'MiddleName', 'LastName', 'Suffix', 'AddressLine1', 'AddressLine2', 'City', 'StateProvinceName', 'CountryRegionName', 'PostalCode', 'PhoneNumber', 'BirthDate', 'Education', 'Occupation', 'Gender', 'MaritalStatus', 'HomeOwnerFlag', 'NumberCarsOwned', 'NumberChildrenAtHome', 'TotalChildren', 'YearlyIncome', 'LastUpdated']\n",
            "\n",
            "Shape after selection: (18361, 12)\n",
            "  Gender  Age  YearlyIncome        Education      Occupation MaritalStatus  \\\n",
            "0      M   37         81916        Bachelors        Clerical             M   \n",
            "1      M   53         81076  Partial College        Clerical             M   \n",
            "2      F   39         86387        Bachelors        Clerical             S   \n",
            "3      M   47         61481  Partial College  Skilled Manual             M   \n",
            "4      M   50         51804  Partial College  Skilled Manual             S   \n",
            "\n",
            "   HomeOwnerFlag  NumberCarsOwned  NumberChildrenAtHome  TotalChildren  \\\n",
            "0              1                3                     0              1   \n",
            "1              1                2                     1              2   \n",
            "2              0                3                     0              0   \n",
            "3              1                2                     1              2   \n",
            "4              1                1                     0              0   \n",
            "\n",
            "  CountryRegionName  BikeBuyer  \n",
            "0         Australia          1  \n",
            "1            Canada          0  \n",
            "2     United States          1  \n",
            "3    United Kingdom          1  \n",
            "4           Germany          1  \n",
            "\n",
            "Data Value Types:\n",
            "Gender: Discrete (Nominal)\n",
            "Age: Continuous (Ratio)\n",
            "YearlyIncome: Continuous (Ratio)\n",
            "Education: Discrete (Ordinal)\n",
            "Occupation: Discrete (Nominal)\n",
            "MaritalStatus: Discrete (Nominal)\n",
            "HomeOwnerFlag: Discrete (Nominal)\n",
            "NumberCarsOwned: Discrete (Ratio)\n",
            "NumberChildrenAtHome: Discrete (Ratio)\n",
            "TotalChildren: Discrete (Ratio)\n",
            "CountryRegionName: Discrete (Nominal)\n",
            "BikeBuyer: Discrete (Nominal)\n"
          ]
        }
      ]
    },
    {
      "cell_type": "code",
      "source": [
        "import pandas as pd\n",
        "import numpy as np\n",
        "from sklearn.preprocessing import MinMaxScaler, StandardScaler, OneHotEncoder, KBinsDiscretizer\n",
        "from sklearn.metrics.pairwise import cosine_similarity\n",
        "\n",
        "print(\"\\nStart Part II, shape:\", df.shape)\n",
        "\n",
        "df = df.dropna()\n",
        "X = df.drop('BikeBuyer', axis=1)\n",
        "y = df['BikeBuyer']\n",
        "\n",
        "num_cols = ['YearlyIncome','NumberCarsOwned','NumberChildrenAtHome','TotalChildren']\n",
        "cat_cols = ['Gender','Education','Occupation','MaritalStatus','HomeOwnerFlag','CountryRegionName']\n",
        "\n",
        "mm = MinMaxScaler()\n",
        "X_prep = X.copy()\n",
        "X_prep[num_cols] = mm.fit_transform(X[num_cols])\n",
        "\n",
        "kb = KBinsDiscretizer(n_bins=4, encode='ordinal', strategy='uniform')\n",
        "X_prep['IncomeBin'] = kb.fit_transform(X[['YearlyIncome']])\n",
        "\n",
        "std = StandardScaler()\n",
        "X_prep[num_cols] = std.fit_transform(X[num_cols])\n",
        "\n",
        "enc = OneHotEncoder(drop='first', sparse_output=False)\n",
        "cat_vals = enc.fit_transform(X_prep[cat_cols])\n",
        "cat_df = pd.DataFrame(cat_vals, columns=enc.get_feature_names_out(cat_cols))\n",
        "\n",
        "X_final = pd.concat([X_prep.drop(cat_cols, axis=1).reset_index(drop=True),\n",
        "                     cat_df.reset_index(drop=True)], axis=1)\n",
        "\n",
        "final_df = pd.concat([X_final, y.reset_index(drop=True)], axis=1)\n",
        "\n",
        "print(\"\\nFinal shape:\", final_df.shape)\n",
        "print(final_df.head())\n",
        "\n",
        "final_df.to_csv(\"Processed_PartII.csv\", index=False)\n",
        "print(\"\\nSaved as Processed_PartII.csv\")\n",
        "\n",
        "a = final_df.iloc[0].values.reshape(1, -1)\n",
        "b = final_df.iloc[1].values.reshape(1, -1)\n",
        "\n",
        "bin_a = (final_df.iloc[0] > 0).astype(int)\n",
        "bin_b = (final_df.iloc[1] > 0).astype(int)\n",
        "\n",
        "smc = sum(bin_a == bin_b) / len(bin_a)\n",
        "inter = np.logical_and(bin_a, bin_b).sum()\n",
        "union = np.logical_or(bin_a, bin_b).sum()\n",
        "jac = inter / union if union != 0 else 0\n",
        "cos = cosine_similarity(a, b)[0][0]\n",
        "\n",
        "print(\"\\nSimilarity Measures:\")\n",
        "print(f\"Simple Matching: {smc:.4f}\")\n",
        "print(f\"Jaccard: {jac:.4f}\")\n",
        "print(f\"Cosine: {cos:.4f}\")\n",
        "\n",
        "if 'NumberCarsOwned' in df.columns and 'YearlyIncome' in df.columns:\n",
        "    corr = df['NumberCarsOwned'].corr(df['YearlyIncome'])\n",
        "    print(f\"\\nCorr(NumberCarsOwned, YearlyIncome): {corr:.4f}\")\n",
        "else:\n",
        "    print(\"\\nColumns not found\")\n"
      ],
      "metadata": {
        "colab": {
          "base_uri": "https://localhost:8080/"
        },
        "id": "Ien0bwqGr3ch",
        "outputId": "a711966a-38b9-4f1d-9526-000e247bef66"
      },
      "execution_count": 3,
      "outputs": [
        {
          "output_type": "stream",
          "name": "stdout",
          "text": [
            "\n",
            "Start Part II, shape: (18361, 12)\n",
            "\n",
            "Final shape: (18361, 23)\n",
            "   Age  YearlyIncome  NumberCarsOwned  NumberChildrenAtHome  TotalChildren  \\\n",
            "0   37      0.298555         1.892524             -0.594371       0.161342   \n",
            "1   53      0.271180         0.798389              1.163279       1.239753   \n",
            "2   39      0.444261         1.892524             -0.594371      -0.917069   \n",
            "3   47     -0.367401         0.798389              1.163279       1.239753   \n",
            "4   50     -0.682765        -0.295746             -0.594371      -0.917069   \n",
            "\n",
            "   IncomeBin  Gender_M  Education_Graduate Degree  Education_High School  \\\n",
            "0        1.0       1.0                        0.0                    0.0   \n",
            "1        1.0       1.0                        0.0                    0.0   \n",
            "2        2.0       0.0                        0.0                    0.0   \n",
            "3        1.0       1.0                        0.0                    0.0   \n",
            "4        0.0       1.0                        0.0                    0.0   \n",
            "\n",
            "   Education_Partial College  ...  Occupation_Professional  \\\n",
            "0                        0.0  ...                      0.0   \n",
            "1                        1.0  ...                      0.0   \n",
            "2                        0.0  ...                      0.0   \n",
            "3                        1.0  ...                      0.0   \n",
            "4                        1.0  ...                      0.0   \n",
            "\n",
            "   Occupation_Skilled Manual  MaritalStatus_S  HomeOwnerFlag_1  \\\n",
            "0                        0.0              0.0              1.0   \n",
            "1                        0.0              0.0              1.0   \n",
            "2                        0.0              1.0              0.0   \n",
            "3                        1.0              0.0              1.0   \n",
            "4                        1.0              1.0              1.0   \n",
            "\n",
            "   CountryRegionName_Canada  CountryRegionName_France  \\\n",
            "0                       0.0                       0.0   \n",
            "1                       1.0                       0.0   \n",
            "2                       0.0                       0.0   \n",
            "3                       0.0                       0.0   \n",
            "4                       0.0                       0.0   \n",
            "\n",
            "   CountryRegionName_Germany  CountryRegionName_United Kingdom  \\\n",
            "0                        0.0                               0.0   \n",
            "1                        0.0                               0.0   \n",
            "2                        0.0                               0.0   \n",
            "3                        0.0                               1.0   \n",
            "4                        1.0                               0.0   \n",
            "\n",
            "   CountryRegionName_United States  BikeBuyer  \n",
            "0                              0.0          1  \n",
            "1                              0.0          0  \n",
            "2                              1.0          1  \n",
            "3                              0.0          1  \n",
            "4                              0.0          1  \n",
            "\n",
            "[5 rows x 23 columns]\n",
            "\n",
            "Saved as Processed_PartII.csv\n",
            "\n",
            "Similarity Measures:\n",
            "Simple Matching: 0.8261\n",
            "Jaccard: 0.6364\n",
            "Cosine: 0.9976\n",
            "\n",
            "Corr(NumberCarsOwned, YearlyIncome): 0.4773\n"
          ]
        }
      ]
    }
  ]
}