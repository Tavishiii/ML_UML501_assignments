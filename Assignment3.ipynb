{
  "nbformat": 4,
  "nbformat_minor": 0,
  "metadata": {
    "colab": {
      "provenance": []
    },
    "kernelspec": {
      "name": "python3",
      "display_name": "Python 3"
    },
    "language_info": {
      "name": "python"
    }
  },
  "cells": [
    {
      "cell_type": "markdown",
      "source": [
        "#Q1: K-Fold Cross Validation for Multiple Linear Regression (Least Square Error Fit)\n",
        "Download the dataset regarding USA House Price Prediction from the following link:\n",
        "https://drive.google.com/file/d/1O_NwpJT-8xGfU_-3llUl2sgPu0xllOrX/view?usp=sharing\n",
        "Load the dataset and Implement 5- fold cross validation for multiple linear regression (using least square error fit).\n",
        "Steps:\n",
        "a) Divide the dataset into input features (all columns except price) and output variable\n",
        "(price)\n",
        "b) Scale the values of input features.\n",
        "c) Divide input and output features into five folds.\n",
        "d) Run five iterations, in each iteration consider one-fold as test set and remaining four sets as training set. Find the beta (𝛽) matrix, predicted values, and R2_score for each iteration using least square error fit.\n",
        "e) Use the best value of (𝛽) matrix (for which R2_score is maximum), to train the regressor for 70% of data and test the performance for remaining 30% data."
      ],
      "metadata": {
        "id": "lTQztN_4W4UN"
      }
    },
    {
      "cell_type": "code",
      "source": [
        "# Importing libraries\n",
        "\n",
        "import pandas as pd\n",
        "import numpy as np\n",
        "import matplotlib.pyplot as plt\n",
        "import seaborn as sns\n",
        "\n"
      ],
      "metadata": {
        "id": "uJWPWNHFW4gY"
      },
      "execution_count": null,
      "outputs": []
    },
    {
      "cell_type": "code",
      "source": [
        "# Loading dataset\n",
        "from google.colab import files\n",
        "uploaded = files.upload()\n",
        "\n"
      ],
      "metadata": {
        "colab": {
          "base_uri": "https://localhost:8080/",
          "height": 72
        },
        "id": "J0lQDoIZaIOl",
        "outputId": "cdfbe991-b096-4f7e-c4c6-cc56b838830d"
      },
      "execution_count": null,
      "outputs": [
        {
          "output_type": "display_data",
          "data": {
            "text/plain": [
              "<IPython.core.display.HTML object>"
            ],
            "text/html": [
              "\n",
              "     <input type=\"file\" id=\"files-37ed9f70-8d1c-478d-ad79-4ba10d436f00\" name=\"files[]\" multiple disabled\n",
              "        style=\"border:none\" />\n",
              "     <output id=\"result-37ed9f70-8d1c-478d-ad79-4ba10d436f00\">\n",
              "      Upload widget is only available when the cell has been executed in the\n",
              "      current browser session. Please rerun this cell to enable.\n",
              "      </output>\n",
              "      <script>// Copyright 2017 Google LLC\n",
              "//\n",
              "// Licensed under the Apache License, Version 2.0 (the \"License\");\n",
              "// you may not use this file except in compliance with the License.\n",
              "// You may obtain a copy of the License at\n",
              "//\n",
              "//      http://www.apache.org/licenses/LICENSE-2.0\n",
              "//\n",
              "// Unless required by applicable law or agreed to in writing, software\n",
              "// distributed under the License is distributed on an \"AS IS\" BASIS,\n",
              "// WITHOUT WARRANTIES OR CONDITIONS OF ANY KIND, either express or implied.\n",
              "// See the License for the specific language governing permissions and\n",
              "// limitations under the License.\n",
              "\n",
              "/**\n",
              " * @fileoverview Helpers for google.colab Python module.\n",
              " */\n",
              "(function(scope) {\n",
              "function span(text, styleAttributes = {}) {\n",
              "  const element = document.createElement('span');\n",
              "  element.textContent = text;\n",
              "  for (const key of Object.keys(styleAttributes)) {\n",
              "    element.style[key] = styleAttributes[key];\n",
              "  }\n",
              "  return element;\n",
              "}\n",
              "\n",
              "// Max number of bytes which will be uploaded at a time.\n",
              "const MAX_PAYLOAD_SIZE = 100 * 1024;\n",
              "\n",
              "function _uploadFiles(inputId, outputId) {\n",
              "  const steps = uploadFilesStep(inputId, outputId);\n",
              "  const outputElement = document.getElementById(outputId);\n",
              "  // Cache steps on the outputElement to make it available for the next call\n",
              "  // to uploadFilesContinue from Python.\n",
              "  outputElement.steps = steps;\n",
              "\n",
              "  return _uploadFilesContinue(outputId);\n",
              "}\n",
              "\n",
              "// This is roughly an async generator (not supported in the browser yet),\n",
              "// where there are multiple asynchronous steps and the Python side is going\n",
              "// to poll for completion of each step.\n",
              "// This uses a Promise to block the python side on completion of each step,\n",
              "// then passes the result of the previous step as the input to the next step.\n",
              "function _uploadFilesContinue(outputId) {\n",
              "  const outputElement = document.getElementById(outputId);\n",
              "  const steps = outputElement.steps;\n",
              "\n",
              "  const next = steps.next(outputElement.lastPromiseValue);\n",
              "  return Promise.resolve(next.value.promise).then((value) => {\n",
              "    // Cache the last promise value to make it available to the next\n",
              "    // step of the generator.\n",
              "    outputElement.lastPromiseValue = value;\n",
              "    return next.value.response;\n",
              "  });\n",
              "}\n",
              "\n",
              "/**\n",
              " * Generator function which is called between each async step of the upload\n",
              " * process.\n",
              " * @param {string} inputId Element ID of the input file picker element.\n",
              " * @param {string} outputId Element ID of the output display.\n",
              " * @return {!Iterable<!Object>} Iterable of next steps.\n",
              " */\n",
              "function* uploadFilesStep(inputId, outputId) {\n",
              "  const inputElement = document.getElementById(inputId);\n",
              "  inputElement.disabled = false;\n",
              "\n",
              "  const outputElement = document.getElementById(outputId);\n",
              "  outputElement.innerHTML = '';\n",
              "\n",
              "  const pickedPromise = new Promise((resolve) => {\n",
              "    inputElement.addEventListener('change', (e) => {\n",
              "      resolve(e.target.files);\n",
              "    });\n",
              "  });\n",
              "\n",
              "  const cancel = document.createElement('button');\n",
              "  inputElement.parentElement.appendChild(cancel);\n",
              "  cancel.textContent = 'Cancel upload';\n",
              "  const cancelPromise = new Promise((resolve) => {\n",
              "    cancel.onclick = () => {\n",
              "      resolve(null);\n",
              "    };\n",
              "  });\n",
              "\n",
              "  // Wait for the user to pick the files.\n",
              "  const files = yield {\n",
              "    promise: Promise.race([pickedPromise, cancelPromise]),\n",
              "    response: {\n",
              "      action: 'starting',\n",
              "    }\n",
              "  };\n",
              "\n",
              "  cancel.remove();\n",
              "\n",
              "  // Disable the input element since further picks are not allowed.\n",
              "  inputElement.disabled = true;\n",
              "\n",
              "  if (!files) {\n",
              "    return {\n",
              "      response: {\n",
              "        action: 'complete',\n",
              "      }\n",
              "    };\n",
              "  }\n",
              "\n",
              "  for (const file of files) {\n",
              "    const li = document.createElement('li');\n",
              "    li.append(span(file.name, {fontWeight: 'bold'}));\n",
              "    li.append(span(\n",
              "        `(${file.type || 'n/a'}) - ${file.size} bytes, ` +\n",
              "        `last modified: ${\n",
              "            file.lastModifiedDate ? file.lastModifiedDate.toLocaleDateString() :\n",
              "                                    'n/a'} - `));\n",
              "    const percent = span('0% done');\n",
              "    li.appendChild(percent);\n",
              "\n",
              "    outputElement.appendChild(li);\n",
              "\n",
              "    const fileDataPromise = new Promise((resolve) => {\n",
              "      const reader = new FileReader();\n",
              "      reader.onload = (e) => {\n",
              "        resolve(e.target.result);\n",
              "      };\n",
              "      reader.readAsArrayBuffer(file);\n",
              "    });\n",
              "    // Wait for the data to be ready.\n",
              "    let fileData = yield {\n",
              "      promise: fileDataPromise,\n",
              "      response: {\n",
              "        action: 'continue',\n",
              "      }\n",
              "    };\n",
              "\n",
              "    // Use a chunked sending to avoid message size limits. See b/62115660.\n",
              "    let position = 0;\n",
              "    do {\n",
              "      const length = Math.min(fileData.byteLength - position, MAX_PAYLOAD_SIZE);\n",
              "      const chunk = new Uint8Array(fileData, position, length);\n",
              "      position += length;\n",
              "\n",
              "      const base64 = btoa(String.fromCharCode.apply(null, chunk));\n",
              "      yield {\n",
              "        response: {\n",
              "          action: 'append',\n",
              "          file: file.name,\n",
              "          data: base64,\n",
              "        },\n",
              "      };\n",
              "\n",
              "      let percentDone = fileData.byteLength === 0 ?\n",
              "          100 :\n",
              "          Math.round((position / fileData.byteLength) * 100);\n",
              "      percent.textContent = `${percentDone}% done`;\n",
              "\n",
              "    } while (position < fileData.byteLength);\n",
              "  }\n",
              "\n",
              "  // All done.\n",
              "  yield {\n",
              "    response: {\n",
              "      action: 'complete',\n",
              "    }\n",
              "  };\n",
              "}\n",
              "\n",
              "scope.google = scope.google || {};\n",
              "scope.google.colab = scope.google.colab || {};\n",
              "scope.google.colab._files = {\n",
              "  _uploadFiles,\n",
              "  _uploadFilesContinue,\n",
              "};\n",
              "})(self);\n",
              "</script> "
            ]
          },
          "metadata": {}
        },
        {
          "output_type": "stream",
          "name": "stdout",
          "text": [
            "Saving USA_Housing.csv to USA_Housing.csv\n"
          ]
        }
      ]
    },
    {
      "cell_type": "code",
      "source": [
        "df= pd.read_csv('USA_Housing.csv')\n",
        "df.head()"
      ],
      "metadata": {
        "colab": {
          "base_uri": "https://localhost:8080/",
          "height": 206
        },
        "id": "xHBdTsDtaISU",
        "outputId": "bb2d8779-2102-4c03-96b7-828e28bc0357"
      },
      "execution_count": null,
      "outputs": [
        {
          "output_type": "execute_result",
          "data": {
            "text/plain": [
              "   Avg. Area Income  Avg. Area House Age  Avg. Area Number of Rooms  \\\n",
              "0       79545.45857             5.682861                   7.009188   \n",
              "1       79248.64245             6.002900                   6.730821   \n",
              "2       61287.06718             5.865890                   8.512727   \n",
              "3       63345.24005             7.188236                   5.586729   \n",
              "4       59982.19723             5.040555                   7.839388   \n",
              "\n",
              "   Avg. Area Number of Bedrooms  Area Population         Price  \n",
              "0                          4.09      23086.80050  1.059034e+06  \n",
              "1                          3.09      40173.07217  1.505891e+06  \n",
              "2                          5.13      36882.15940  1.058988e+06  \n",
              "3                          3.26      34310.24283  1.260617e+06  \n",
              "4                          4.23      26354.10947  6.309435e+05  "
            ],
            "text/html": [
              "\n",
              "  <div id=\"df-678de467-92b2-4934-bf03-3f47264b12ca\" class=\"colab-df-container\">\n",
              "    <div>\n",
              "<style scoped>\n",
              "    .dataframe tbody tr th:only-of-type {\n",
              "        vertical-align: middle;\n",
              "    }\n",
              "\n",
              "    .dataframe tbody tr th {\n",
              "        vertical-align: top;\n",
              "    }\n",
              "\n",
              "    .dataframe thead th {\n",
              "        text-align: right;\n",
              "    }\n",
              "</style>\n",
              "<table border=\"1\" class=\"dataframe\">\n",
              "  <thead>\n",
              "    <tr style=\"text-align: right;\">\n",
              "      <th></th>\n",
              "      <th>Avg. Area Income</th>\n",
              "      <th>Avg. Area House Age</th>\n",
              "      <th>Avg. Area Number of Rooms</th>\n",
              "      <th>Avg. Area Number of Bedrooms</th>\n",
              "      <th>Area Population</th>\n",
              "      <th>Price</th>\n",
              "    </tr>\n",
              "  </thead>\n",
              "  <tbody>\n",
              "    <tr>\n",
              "      <th>0</th>\n",
              "      <td>79545.45857</td>\n",
              "      <td>5.682861</td>\n",
              "      <td>7.009188</td>\n",
              "      <td>4.09</td>\n",
              "      <td>23086.80050</td>\n",
              "      <td>1.059034e+06</td>\n",
              "    </tr>\n",
              "    <tr>\n",
              "      <th>1</th>\n",
              "      <td>79248.64245</td>\n",
              "      <td>6.002900</td>\n",
              "      <td>6.730821</td>\n",
              "      <td>3.09</td>\n",
              "      <td>40173.07217</td>\n",
              "      <td>1.505891e+06</td>\n",
              "    </tr>\n",
              "    <tr>\n",
              "      <th>2</th>\n",
              "      <td>61287.06718</td>\n",
              "      <td>5.865890</td>\n",
              "      <td>8.512727</td>\n",
              "      <td>5.13</td>\n",
              "      <td>36882.15940</td>\n",
              "      <td>1.058988e+06</td>\n",
              "    </tr>\n",
              "    <tr>\n",
              "      <th>3</th>\n",
              "      <td>63345.24005</td>\n",
              "      <td>7.188236</td>\n",
              "      <td>5.586729</td>\n",
              "      <td>3.26</td>\n",
              "      <td>34310.24283</td>\n",
              "      <td>1.260617e+06</td>\n",
              "    </tr>\n",
              "    <tr>\n",
              "      <th>4</th>\n",
              "      <td>59982.19723</td>\n",
              "      <td>5.040555</td>\n",
              "      <td>7.839388</td>\n",
              "      <td>4.23</td>\n",
              "      <td>26354.10947</td>\n",
              "      <td>6.309435e+05</td>\n",
              "    </tr>\n",
              "  </tbody>\n",
              "</table>\n",
              "</div>\n",
              "    <div class=\"colab-df-buttons\">\n",
              "\n",
              "  <div class=\"colab-df-container\">\n",
              "    <button class=\"colab-df-convert\" onclick=\"convertToInteractive('df-678de467-92b2-4934-bf03-3f47264b12ca')\"\n",
              "            title=\"Convert this dataframe to an interactive table.\"\n",
              "            style=\"display:none;\">\n",
              "\n",
              "  <svg xmlns=\"http://www.w3.org/2000/svg\" height=\"24px\" viewBox=\"0 -960 960 960\">\n",
              "    <path d=\"M120-120v-720h720v720H120Zm60-500h600v-160H180v160Zm220 220h160v-160H400v160Zm0 220h160v-160H400v160ZM180-400h160v-160H180v160Zm440 0h160v-160H620v160ZM180-180h160v-160H180v160Zm440 0h160v-160H620v160Z\"/>\n",
              "  </svg>\n",
              "    </button>\n",
              "\n",
              "  <style>\n",
              "    .colab-df-container {\n",
              "      display:flex;\n",
              "      gap: 12px;\n",
              "    }\n",
              "\n",
              "    .colab-df-convert {\n",
              "      background-color: #E8F0FE;\n",
              "      border: none;\n",
              "      border-radius: 50%;\n",
              "      cursor: pointer;\n",
              "      display: none;\n",
              "      fill: #1967D2;\n",
              "      height: 32px;\n",
              "      padding: 0 0 0 0;\n",
              "      width: 32px;\n",
              "    }\n",
              "\n",
              "    .colab-df-convert:hover {\n",
              "      background-color: #E2EBFA;\n",
              "      box-shadow: 0px 1px 2px rgba(60, 64, 67, 0.3), 0px 1px 3px 1px rgba(60, 64, 67, 0.15);\n",
              "      fill: #174EA6;\n",
              "    }\n",
              "\n",
              "    .colab-df-buttons div {\n",
              "      margin-bottom: 4px;\n",
              "    }\n",
              "\n",
              "    [theme=dark] .colab-df-convert {\n",
              "      background-color: #3B4455;\n",
              "      fill: #D2E3FC;\n",
              "    }\n",
              "\n",
              "    [theme=dark] .colab-df-convert:hover {\n",
              "      background-color: #434B5C;\n",
              "      box-shadow: 0px 1px 3px 1px rgba(0, 0, 0, 0.15);\n",
              "      filter: drop-shadow(0px 1px 2px rgba(0, 0, 0, 0.3));\n",
              "      fill: #FFFFFF;\n",
              "    }\n",
              "  </style>\n",
              "\n",
              "    <script>\n",
              "      const buttonEl =\n",
              "        document.querySelector('#df-678de467-92b2-4934-bf03-3f47264b12ca button.colab-df-convert');\n",
              "      buttonEl.style.display =\n",
              "        google.colab.kernel.accessAllowed ? 'block' : 'none';\n",
              "\n",
              "      async function convertToInteractive(key) {\n",
              "        const element = document.querySelector('#df-678de467-92b2-4934-bf03-3f47264b12ca');\n",
              "        const dataTable =\n",
              "          await google.colab.kernel.invokeFunction('convertToInteractive',\n",
              "                                                    [key], {});\n",
              "        if (!dataTable) return;\n",
              "\n",
              "        const docLinkHtml = 'Like what you see? Visit the ' +\n",
              "          '<a target=\"_blank\" href=https://colab.research.google.com/notebooks/data_table.ipynb>data table notebook</a>'\n",
              "          + ' to learn more about interactive tables.';\n",
              "        element.innerHTML = '';\n",
              "        dataTable['output_type'] = 'display_data';\n",
              "        await google.colab.output.renderOutput(dataTable, element);\n",
              "        const docLink = document.createElement('div');\n",
              "        docLink.innerHTML = docLinkHtml;\n",
              "        element.appendChild(docLink);\n",
              "      }\n",
              "    </script>\n",
              "  </div>\n",
              "\n",
              "\n",
              "    <div id=\"df-362a0f54-b6b1-47cd-8f0f-d720f19ec17f\">\n",
              "      <button class=\"colab-df-quickchart\" onclick=\"quickchart('df-362a0f54-b6b1-47cd-8f0f-d720f19ec17f')\"\n",
              "                title=\"Suggest charts\"\n",
              "                style=\"display:none;\">\n",
              "\n",
              "<svg xmlns=\"http://www.w3.org/2000/svg\" height=\"24px\"viewBox=\"0 0 24 24\"\n",
              "     width=\"24px\">\n",
              "    <g>\n",
              "        <path d=\"M19 3H5c-1.1 0-2 .9-2 2v14c0 1.1.9 2 2 2h14c1.1 0 2-.9 2-2V5c0-1.1-.9-2-2-2zM9 17H7v-7h2v7zm4 0h-2V7h2v10zm4 0h-2v-4h2v4z\"/>\n",
              "    </g>\n",
              "</svg>\n",
              "      </button>\n",
              "\n",
              "<style>\n",
              "  .colab-df-quickchart {\n",
              "      --bg-color: #E8F0FE;\n",
              "      --fill-color: #1967D2;\n",
              "      --hover-bg-color: #E2EBFA;\n",
              "      --hover-fill-color: #174EA6;\n",
              "      --disabled-fill-color: #AAA;\n",
              "      --disabled-bg-color: #DDD;\n",
              "  }\n",
              "\n",
              "  [theme=dark] .colab-df-quickchart {\n",
              "      --bg-color: #3B4455;\n",
              "      --fill-color: #D2E3FC;\n",
              "      --hover-bg-color: #434B5C;\n",
              "      --hover-fill-color: #FFFFFF;\n",
              "      --disabled-bg-color: #3B4455;\n",
              "      --disabled-fill-color: #666;\n",
              "  }\n",
              "\n",
              "  .colab-df-quickchart {\n",
              "    background-color: var(--bg-color);\n",
              "    border: none;\n",
              "    border-radius: 50%;\n",
              "    cursor: pointer;\n",
              "    display: none;\n",
              "    fill: var(--fill-color);\n",
              "    height: 32px;\n",
              "    padding: 0;\n",
              "    width: 32px;\n",
              "  }\n",
              "\n",
              "  .colab-df-quickchart:hover {\n",
              "    background-color: var(--hover-bg-color);\n",
              "    box-shadow: 0 1px 2px rgba(60, 64, 67, 0.3), 0 1px 3px 1px rgba(60, 64, 67, 0.15);\n",
              "    fill: var(--button-hover-fill-color);\n",
              "  }\n",
              "\n",
              "  .colab-df-quickchart-complete:disabled,\n",
              "  .colab-df-quickchart-complete:disabled:hover {\n",
              "    background-color: var(--disabled-bg-color);\n",
              "    fill: var(--disabled-fill-color);\n",
              "    box-shadow: none;\n",
              "  }\n",
              "\n",
              "  .colab-df-spinner {\n",
              "    border: 2px solid var(--fill-color);\n",
              "    border-color: transparent;\n",
              "    border-bottom-color: var(--fill-color);\n",
              "    animation:\n",
              "      spin 1s steps(1) infinite;\n",
              "  }\n",
              "\n",
              "  @keyframes spin {\n",
              "    0% {\n",
              "      border-color: transparent;\n",
              "      border-bottom-color: var(--fill-color);\n",
              "      border-left-color: var(--fill-color);\n",
              "    }\n",
              "    20% {\n",
              "      border-color: transparent;\n",
              "      border-left-color: var(--fill-color);\n",
              "      border-top-color: var(--fill-color);\n",
              "    }\n",
              "    30% {\n",
              "      border-color: transparent;\n",
              "      border-left-color: var(--fill-color);\n",
              "      border-top-color: var(--fill-color);\n",
              "      border-right-color: var(--fill-color);\n",
              "    }\n",
              "    40% {\n",
              "      border-color: transparent;\n",
              "      border-right-color: var(--fill-color);\n",
              "      border-top-color: var(--fill-color);\n",
              "    }\n",
              "    60% {\n",
              "      border-color: transparent;\n",
              "      border-right-color: var(--fill-color);\n",
              "    }\n",
              "    80% {\n",
              "      border-color: transparent;\n",
              "      border-right-color: var(--fill-color);\n",
              "      border-bottom-color: var(--fill-color);\n",
              "    }\n",
              "    90% {\n",
              "      border-color: transparent;\n",
              "      border-bottom-color: var(--fill-color);\n",
              "    }\n",
              "  }\n",
              "</style>\n",
              "\n",
              "      <script>\n",
              "        async function quickchart(key) {\n",
              "          const quickchartButtonEl =\n",
              "            document.querySelector('#' + key + ' button');\n",
              "          quickchartButtonEl.disabled = true;  // To prevent multiple clicks.\n",
              "          quickchartButtonEl.classList.add('colab-df-spinner');\n",
              "          try {\n",
              "            const charts = await google.colab.kernel.invokeFunction(\n",
              "                'suggestCharts', [key], {});\n",
              "          } catch (error) {\n",
              "            console.error('Error during call to suggestCharts:', error);\n",
              "          }\n",
              "          quickchartButtonEl.classList.remove('colab-df-spinner');\n",
              "          quickchartButtonEl.classList.add('colab-df-quickchart-complete');\n",
              "        }\n",
              "        (() => {\n",
              "          let quickchartButtonEl =\n",
              "            document.querySelector('#df-362a0f54-b6b1-47cd-8f0f-d720f19ec17f button');\n",
              "          quickchartButtonEl.style.display =\n",
              "            google.colab.kernel.accessAllowed ? 'block' : 'none';\n",
              "        })();\n",
              "      </script>\n",
              "    </div>\n",
              "\n",
              "    </div>\n",
              "  </div>\n"
            ],
            "application/vnd.google.colaboratory.intrinsic+json": {
              "type": "dataframe",
              "variable_name": "df",
              "summary": "{\n  \"name\": \"df\",\n  \"rows\": 5000,\n  \"fields\": [\n    {\n      \"column\": \"Avg. Area Income\",\n      \"properties\": {\n        \"dtype\": \"number\",\n        \"std\": 10657.991213888694,\n        \"min\": 17796.63119,\n        \"max\": 107701.7484,\n        \"num_unique_values\": 5000,\n        \"samples\": [\n          61907.59335,\n          57160.20224,\n          70190.79644\n        ],\n        \"semantic_type\": \"\",\n        \"description\": \"\"\n      }\n    },\n    {\n      \"column\": \"Avg. Area House Age\",\n      \"properties\": {\n        \"dtype\": \"number\",\n        \"std\": 0.9914561798324224,\n        \"min\": 2.644304186,\n        \"max\": 9.519088066,\n        \"num_unique_values\": 5000,\n        \"samples\": [\n          7.017837825,\n          6.893260095,\n          6.745053762\n        ],\n        \"semantic_type\": \"\",\n        \"description\": \"\"\n      }\n    },\n    {\n      \"column\": \"Avg. Area Number of Rooms\",\n      \"properties\": {\n        \"dtype\": \"number\",\n        \"std\": 1.0058332312754097,\n        \"min\": 3.236194023,\n        \"max\": 10.75958834,\n        \"num_unique_values\": 5000,\n        \"samples\": [\n          6.440255755,\n          6.921532165,\n          6.662566733\n        ],\n        \"semantic_type\": \"\",\n        \"description\": \"\"\n      }\n    },\n    {\n      \"column\": \"Avg. Area Number of Bedrooms\",\n      \"properties\": {\n        \"dtype\": \"number\",\n        \"std\": 1.2341372654846827,\n        \"min\": 2.0,\n        \"max\": 6.5,\n        \"num_unique_values\": 255,\n        \"samples\": [\n          3.5,\n          3.41,\n          3.33\n        ],\n        \"semantic_type\": \"\",\n        \"description\": \"\"\n      }\n    },\n    {\n      \"column\": \"Area Population\",\n      \"properties\": {\n        \"dtype\": \"number\",\n        \"std\": 9925.650113546028,\n        \"min\": 172.6106863,\n        \"max\": 69621.71338,\n        \"num_unique_values\": 5000,\n        \"samples\": [\n          43828.94721,\n          43467.14704,\n          29215.13611\n        ],\n        \"semantic_type\": \"\",\n        \"description\": \"\"\n      }\n    },\n    {\n      \"column\": \"Price\",\n      \"properties\": {\n        \"dtype\": \"number\",\n        \"std\": 353117.6265836959,\n        \"min\": 15938.65792,\n        \"max\": 2469065.594,\n        \"num_unique_values\": 5000,\n        \"samples\": [\n          1339096.077,\n          1251794.179,\n          1340094.966\n        ],\n        \"semantic_type\": \"\",\n        \"description\": \"\"\n      }\n    }\n  ]\n}"
            }
          },
          "metadata": {},
          "execution_count": 5
        }
      ]
    },
    {
      "cell_type": "code",
      "source": [
        "# a) Divide the dataset into input features (all columns except price) and output variable (price)\n",
        "X= df.drop('Price', axis=1)\n",
        "y= df['Price']\n",
        "\n",
        "print(X.shape)\n",
        "print(y.shape)"
      ],
      "metadata": {
        "colab": {
          "base_uri": "https://localhost:8080/"
        },
        "id": "2Wfuwm5qaywV",
        "outputId": "77c0c58a-acc1-4545-b456-996f2e352dc7"
      },
      "execution_count": null,
      "outputs": [
        {
          "output_type": "stream",
          "name": "stdout",
          "text": [
            "(5000, 5)\n",
            "(5000,)\n"
          ]
        }
      ]
    },
    {
      "cell_type": "code",
      "source": [
        "# b) Scale the values of input features\n",
        "from sklearn.preprocessing import StandardScaler\n",
        "scaler= StandardScaler()\n",
        "X= scaler.fit_transform(X)\n",
        "print(X[:5])"
      ],
      "metadata": {
        "colab": {
          "base_uri": "https://localhost:8080/"
        },
        "id": "bP5LE2urayzv",
        "outputId": "8ebf1914-8826-4258-d415-8f4f015e4918"
      },
      "execution_count": null,
      "outputs": [
        {
          "output_type": "stream",
          "name": "stdout",
          "text": [
            "[[ 1.02865969 -0.29692705  0.02127433  0.08806222 -1.31759867]\n",
            " [ 1.00080775  0.02590164 -0.25550611 -0.72230146  0.40399945]\n",
            " [-0.68462915 -0.11230283  1.5162435   0.93084045  0.07240989]\n",
            " [-0.49149907  1.22157207 -1.39307717 -0.58453963 -0.18673422]\n",
            " [-0.80707253 -0.94483368  0.84674187  0.20151314 -0.98838741]]\n"
          ]
        }
      ]
    },
    {
      "cell_type": "code",
      "source": [
        "# c) Divide input and output features into five folds.\n",
        "from sklearn.model_selection import KFold\n",
        "kf= KFold(n_splits=5, shuffle=True, random_state=42)\n",
        "for train_index,test_index in kf.split(X):\n",
        "    print(\"Train size:\", len(train_index), \"Test size:\", len(test_index))\n",
        "\n"
      ],
      "metadata": {
        "colab": {
          "base_uri": "https://localhost:8080/"
        },
        "id": "l5o72zpIcoeM",
        "outputId": "6f9587fc-5ed8-4261-e6e7-ba9f6c7d7f4a"
      },
      "execution_count": null,
      "outputs": [
        {
          "output_type": "stream",
          "name": "stdout",
          "text": [
            "Train size: 4000 Test size: 1000\n",
            "Train size: 4000 Test size: 1000\n",
            "Train size: 4000 Test size: 1000\n",
            "Train size: 4000 Test size: 1000\n",
            "Train size: 4000 Test size: 1000\n"
          ]
        }
      ]
    },
    {
      "cell_type": "code",
      "source": [
        "#  d) Run five iterations, in each iteration consider one-fold as test set and remaining four sets as training set.\n",
        "# Find the beta (𝛽) matrix, predicted values, and R2_score for each iteration using least square error fit.\n",
        "#Run five iterations, in each iteration consider one-fold as test set and remaining four sets as training set.\n",
        "\n",
        "best_r2 = -np.inf\n",
        "best_beta = None\n",
        "results = []\n",
        "\n",
        "for fold, (train_index, test_index) in enumerate(kf.split(X)):\n",
        "    X_train, X_test = X.iloc[train_index], X.iloc[test_index]\n",
        "    y_train, y_test = y.iloc[train_index], y.iloc[test_index]\n",
        "\n",
        "    # Find the beta (𝛽) matrix, predicted values, and R2_score for each iteration using least square error fit.\n",
        "    # Add a column of ones for the intercept term\n",
        "    X_train_with_intercept = np.hstack([np.ones((X_train.shape[0], 1)), X_train])\n",
        "    X_test_with_intercept = np.hstack([np.ones((X_test.shape[0], 1)), X_test])\n",
        "\n",
        "    # Calculate beta using the least squares formula\n",
        "    beta = np.linalg.inv(X_train_with_intercept.T.dot(X_train_with_intercept)).dot(X_train_with_intercept.T).dot(y_train)\n",
        "\n",
        "    # Predict values\n",
        "    y_pred = X_test_with_intercept.dot(beta)\n",
        "\n",
        "    # Calculate R2 score\n",
        "    r2_score = 1 - np.sum((y_test - y_pred)**2) / np.sum((y_test - np.mean(y_test))**2)\n",
        "\n",
        "    results.append({'fold': fold + 1, 'beta': beta, 'r2_score': r2_score})\n",
        "\n",
        "    print(f'Fold {fold + 1}:')\n",
        "    print('Beta matrix: ', beta)\n",
        "    #print('Predicted values:', y_pred)\n",
        "    print('R2_score:', r2_score)\n",
        "    print('-' * 30)\n",
        "\n",
        "    # Check if this fold has the best R2 score\n",
        "    if r2_score > best_r2:\n",
        "        best_r2 = r2_score\n",
        "        best_beta = beta\n",
        "\n",
        "print(f'\\nBest R2_score: {best_r2}')\n",
        "print(f'Best Beta matrix (from fold with best R2_score): {best_beta}')"
      ],
      "metadata": {
        "colab": {
          "base_uri": "https://localhost:8080/"
        },
        "id": "zUeiu5v-coi2",
        "outputId": "d9b64a8b-12fb-4f1f-888e-15166ceff126"
      },
      "execution_count": null,
      "outputs": [
        {
          "output_type": "stream",
          "name": "stdout",
          "text": [
            "Fold 1:\n",
            "Beta matrix:  [-2.63507290e+06  2.16522058e+01  1.64666481e+05  1.19624012e+05\n",
            "  2.44037761e+03  1.52703134e+01]\n",
            "R2_score: 0.9179971706985152\n",
            "------------------------------\n",
            "Fold 2:\n",
            "Beta matrix:  [-2.64332951e+06  2.14960668e+01  1.67328375e+05  1.20843820e+05\n",
            "  1.69564375e+03  1.52020352e+01]\n",
            "R2_score: 0.9145677884802818\n",
            "------------------------------\n",
            "Fold 3:\n",
            "Beta matrix:  [-2.62335104e+06  2.16032765e+01  1.64185223e+05  1.20332947e+05\n",
            "  1.01065526e+03  1.51375276e+01]\n",
            "R2_score: 0.9116116385364474\n",
            "------------------------------\n",
            "Fold 4:\n",
            "Beta matrix:  [-2.65361218e+06  2.15353015e+01  1.66652443e+05  1.22139754e+05\n",
            "  2.48272497e+03  1.52063570e+01]\n",
            "R2_score: 0.9193091764960825\n",
            "------------------------------\n",
            "Fold 5:\n",
            "Beta matrix:  [-2.63157196e+06  2.16033277e+01  1.65386268e+05  1.20424768e+05\n",
            "  6.34893338e+02  1.51806193e+01]\n",
            "R2_score: 0.9243869413350321\n",
            "------------------------------\n",
            "\n",
            "Best R2_score: 0.9243869413350321\n",
            "Best Beta matrix (from fold with best R2_score): [-2.63157196e+06  2.16033277e+01  1.65386268e+05  1.20424768e+05\n",
            "  6.34893338e+02  1.51806193e+01]\n"
          ]
        }
      ]
    },
    {
      "cell_type": "code",
      "source": [
        "# e) Use the best value of (𝛽) matrix (for which R2_score is maximum), to train the regressor for 70% of data and test the performance for remaining 30% data.\n",
        "X_with_intercept = np.hstack([np.ones((X.shape[0], 1)), X])\n",
        "y_pred_final = X_with_intercept.dot(best_beta)\n",
        "\n",
        "# Evaluate the performance on the entire dataset\n",
        "final_r2_score = 1 - np.sum((y - y_pred_final)**2) / np.sum((y - np.mean(y))**2)\n",
        "\n",
        "print(f'R2_score on the entire dataset using the best beta: {final_r2_score}')"
      ],
      "metadata": {
        "colab": {
          "base_uri": "https://localhost:8080/"
        },
        "id": "WBRsPKFYdlyA",
        "outputId": "5dd71c0e-e5ea-4451-c044-b38599346805"
      },
      "execution_count": null,
      "outputs": [
        {
          "output_type": "stream",
          "name": "stdout",
          "text": [
            "R2_score on the entire dataset using the best beta: 0.9180056538688431\n"
          ]
        }
      ]
    },
    {
      "cell_type": "markdown",
      "source": [
        "#Q2\n",
        "Concept of Validation set for Multiple Linear Regression (Gradient Descent\n",
        "Optimization)\n",
        "Consider the same dataset of Q1, rather than dividing the dataset into five folds, divide the dataset into training set (56%), validation set (14%), and test set (30%).\n",
        "Consider four different values of learning rate i.e. {0.001,0.01,0.1,1}. Compute the values of regression coefficients for each value of learning rate after 1000 iterations.\n",
        "For each set of regression coefficients, compute R2_score for validation and test set and find the best value of regression coefficients."
      ],
      "metadata": {
        "id": "hbgavo7raxq7"
      }
    },
    {
      "cell_type": "code",
      "source": [
        "import pandas as pd\n",
        "from sklearn.preprocessing import StandardScaler\n",
        "\n",
        "# Load the dataset\n",
        "df = pd.read_csv('USA_Housing.csv')\n",
        "\n",
        "# Separate input features and output variable\n",
        "X = df.drop('Price', axis=1)\n",
        "y = df['Price']\n",
        "\n",
        "# Scale input features\n",
        "scaler = StandardScaler()\n",
        "X_scaled = scaler.fit_transform(X)\n",
        "\n",
        "print(\"Shape of X_scaled:\", X_scaled.shape)\n",
        "print(\"Shape of y:\", y.shape)"
      ],
      "metadata": {
        "colab": {
          "base_uri": "https://localhost:8080/"
        },
        "id": "f52WlIvwaoZY",
        "outputId": "6a729240-a014-4429-f7e9-49335cb4da9a"
      },
      "execution_count": null,
      "outputs": [
        {
          "output_type": "stream",
          "name": "stdout",
          "text": [
            "Shape of X_scaled: (5000, 5)\n",
            "Shape of y: (5000,)\n"
          ]
        }
      ]
    },
    {
      "cell_type": "code",
      "source": [
        "from sklearn.model_selection import train_test_split\n",
        "\n",
        "# Split into training (56%) and temporary (44%) sets\n",
        "X_train, X_temp, y_train, y_temp = train_test_split(X_scaled, y, test_size=0.44, random_state=42)\n",
        "\n",
        "# Split temporary set into validation (14%) and test (30%) sets\n",
        "# Calculate the test size for the second split: 30% of original data is 30/(14+30) of the temp data\n",
        "test_size_second_split = 0.30 / 0.44\n",
        "X_val, X_test, y_val, y_test = train_test_split(X_temp, y_temp, test_size=test_size_second_split, random_state=42)\n",
        "\n",
        "# Print the shapes to verify the splits\n",
        "print(\"Shape of X_train:\", X_train.shape)\n",
        "print(\"Shape of X_val:\", X_val.shape)\n",
        "print(\"Shape of X_test:\", X_test.shape)\n",
        "print(\"Shape of y_train:\", y_train.shape)\n",
        "print(\"Shape of y_val:\", y_val.shape)\n",
        "print(\"Shape of y_test:\", y_test.shape)"
      ],
      "metadata": {
        "colab": {
          "base_uri": "https://localhost:8080/"
        },
        "id": "Qim4V0oXaodW",
        "outputId": "1afd1808-172e-4003-99a3-273d55aacf0c"
      },
      "execution_count": null,
      "outputs": [
        {
          "output_type": "stream",
          "name": "stdout",
          "text": [
            "Shape of X_train: (2800, 5)\n",
            "Shape of X_val: (700, 5)\n",
            "Shape of X_test: (1500, 5)\n",
            "Shape of y_train: (2800,)\n",
            "Shape of y_val: (700,)\n",
            "Shape of y_test: (1500,)\n"
          ]
        }
      ]
    },
    {
      "cell_type": "code",
      "source": [
        "import numpy as np\n",
        "\n",
        "def gradient_descent(X_train, y_train, learning_rate, num_iterations):\n",
        "\n",
        "    # Add a column of ones for the intercept term\n",
        "    X_train_with_intercept = np.hstack([np.ones((X_train.shape[0], 1)), X_train])\n",
        "\n",
        "    # Initialize beta values\n",
        "    beta = np.zeros(X_train_with_intercept.shape[1])\n",
        "\n",
        "    m = X_train.shape[0] # Number of training samples\n",
        "\n",
        "    for i in range(num_iterations):\n",
        "        # Calculate predicted values\n",
        "        y_pred = X_train_with_intercept.dot(beta)\n",
        "\n",
        "        # Calculate the error\n",
        "        error = y_pred - y_train\n",
        "\n",
        "        # Calculate the gradient\n",
        "        gradient = (1/m) * X_train_with_intercept.T.dot(error)\n",
        "\n",
        "        # Update beta values\n",
        "        beta = beta - learning_rate * gradient\n",
        "\n",
        "    return beta"
      ],
      "metadata": {
        "id": "NYnINscteZp0"
      },
      "execution_count": null,
      "outputs": []
    },
    {
      "cell_type": "code",
      "source": [
        "learning_rates = [0.001, 0.01, 0.1, 1]\n",
        "results = []\n",
        "\n",
        "for learning_rate in learning_rates:\n",
        "    print(f\"Training with learning rate: {learning_rate}\")\n",
        "    # Call the gradient_descent function\n",
        "    beta_gd = gradient_descent(X_train, y_train, learning_rate, num_iterations=1000)\n",
        "\n",
        "    # Add intercept term to validation and test sets\n",
        "    X_val_with_intercept = np.hstack([np.ones((X_val.shape[0], 1)), X_val])\n",
        "    X_test_with_intercept = np.hstack([np.ones((X_test.shape[0], 1)), X_test])\n",
        "\n",
        "    # Calculate predicted values for validation and test sets\n",
        "    y_pred_val = X_val_with_intercept.dot(beta_gd)\n",
        "    y_pred_test = X_test_with_intercept.dot(beta_gd)\n",
        "\n",
        "    # Compute R2 score for validation set\n",
        "    r2_val = 1 - np.sum((y_val - y_pred_val)**2) / np.sum((y_val - np.mean(y_val))**2)\n",
        "\n",
        "    # Compute R2 score for test set\n",
        "    r2_test = 1 - np.sum((y_test - y_pred_test)**2) / np.sum((y_test - np.mean(y_test))**2)\n",
        "\n",
        "    # Store results\n",
        "    results.append({\n",
        "        'learning_rate': learning_rate,\n",
        "        'beta': beta_gd,\n",
        "        'r2_val': r2_val,\n",
        "        'r2_test': r2_test\n",
        "    })\n",
        "\n",
        "    print(f\"Learning Rate: {learning_rate}, R2 Validation: {r2_val:.4f}, R2 Test: {r2_test:.4f}\")\n",
        "    print(\"-\" * 30)"
      ],
      "metadata": {
        "colab": {
          "base_uri": "https://localhost:8080/"
        },
        "id": "O3wnJbfYeZtK",
        "outputId": "64f0a62b-5626-4376-fa20-22a5f2307f33"
      },
      "execution_count": null,
      "outputs": [
        {
          "output_type": "stream",
          "name": "stdout",
          "text": [
            "Training with learning rate: 0.001\n",
            "Learning Rate: 0.001, R2 Validation: -1.0428, R2 Test: -0.9601\n",
            "------------------------------\n",
            "Training with learning rate: 0.01\n",
            "Learning Rate: 0.01, R2 Validation: 0.9199, R2 Test: 0.9134\n",
            "------------------------------\n",
            "Training with learning rate: 0.1\n",
            "Learning Rate: 0.1, R2 Validation: 0.9200, R2 Test: 0.9134\n",
            "------------------------------\n",
            "Training with learning rate: 1\n",
            "Learning Rate: 1, R2 Validation: 0.9200, R2 Test: 0.9134\n",
            "------------------------------\n"
          ]
        }
      ]
    },
    {
      "cell_type": "code",
      "source": [
        "best_r2_val = -np.inf\n",
        "best_beta_gd = None\n",
        "\n",
        "for result in results:\n",
        "    if result['r2_val'] > best_r2_val:\n",
        "        best_r2_val = result['r2_val']\n",
        "        best_beta_gd = result['beta']\n",
        "\n",
        "print(f\"The best R2 score on the validation set is: {best_r2_val:.4f}\")\n",
        "print(f\"The corresponding best beta coefficients are: {best_beta_gd}\")"
      ],
      "metadata": {
        "colab": {
          "base_uri": "https://localhost:8080/"
        },
        "id": "uS7d6SvwetUT",
        "outputId": "043f0554-4123-4b75-a1ad-5b56b0493573"
      },
      "execution_count": null,
      "outputs": [
        {
          "output_type": "stream",
          "name": "stdout",
          "text": [
            "The best R2 score on the validation set is: 0.9200\n",
            "The corresponding best beta coefficients are: [1232180.27200919  230645.88389435  165328.94019375  120045.00851908\n",
            "    2945.02108903  151375.22971285]\n"
          ]
        }
      ]
    },
    {
      "cell_type": "code",
      "source": [
        "# Find the result entry corresponding to the best validation R2 score\n",
        "best_result = None\n",
        "for result in results:\n",
        "    if result['r2_val'] == best_r2_val:\n",
        "        best_result = result\n",
        "        break\n",
        "\n",
        "# Access the R2 score on the test set from the best result\n",
        "best_r2_test = best_result['r2_test']\n",
        "\n",
        "# Print the best R2 score on the test set\n",
        "print(f\"The R2 score on the test set with the best beta coefficients (based on validation set performance) is: {best_r2_test:.4f}\")"
      ],
      "metadata": {
        "colab": {
          "base_uri": "https://localhost:8080/"
        },
        "id": "di99Yatbe2e4",
        "outputId": "65a82eeb-e904-4916-f77c-0d7eb68c9be8"
      },
      "execution_count": null,
      "outputs": [
        {
          "output_type": "stream",
          "name": "stdout",
          "text": [
            "The R2 score on the test set with the best beta coefficients (based on validation set performance) is: 0.9134\n"
          ]
        }
      ]
    }
  ]
}